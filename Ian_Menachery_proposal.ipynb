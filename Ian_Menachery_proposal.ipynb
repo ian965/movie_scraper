{
 "cells": [
  {
   "cell_type": "markdown",
   "metadata": {},
   "source": [
    "## Phase I Project Proposal\n",
    "### Can movie genre, release date, and audience score be used to predict Rotten Tomatoes critics scores?\n",
    "\n",
    "#### Name: Ian Menachery, DS 3000\n"
   ]
  },
  {
   "cell_type": "markdown",
   "metadata": {},
   "source": [
    "### Introduction\n",
    "\n",
    "### Introduction\n",
    "\n",
    "Can movie genre, length, and audience scores really help predict Rotten Tomatoes critic scores? In this project, I want to dig into how these factors might impact the way critics rate movies. By looking at genre, runtime, and audience feedback, we can uncover valuable insights that filmmakers and studios can use to make smarter choices when creating films. If we can build a model that predicts critic scores based on these characteristics, it could give creators a leg up in understanding what resonates with both audiences and critics alike. Exploring these relationships might also reveal other interesting factors that play a role in shaping critical opinions, helping us get a better idea of what makes a movie successful in the eyes of reviewers."
   ]
  },
  {
   "cell_type": "markdown",
   "metadata": {},
   "source": [
    "### Data Collection\n",
    "\n",
    "I plan to use web scraping to collect movie data from Rotten Tomatoes, focusing on key details like genre, release dates, critic scores, and audience scores. This approach allows me to gather important information that can be useful for analysis. I'll run calculations to assess the relationship between these variables and critics/audience scores. To gain further insights into audience reception, I may also explore additional movie metadata, such as box office performance or awards. By combining these data points, I aim to identify trends or patterns that could help predict rotten tomatoes scores, offering valuable insights reviewers and potentially finding bias in reviews."
   ]
  },
  {
   "cell_type": "code",
   "execution_count": 1,
   "metadata": {},
   "outputs": [
    {
     "name": "stdout",
     "output_type": "stream",
     "text": [
      "                           Movie Name                 Release Critic Score  \\\n",
      "0                    Transformers One  Streaming Oct 22, 2024          89%   \n",
      "1                Deadpool & Wolverine   Streaming Oct 1, 2024          78%   \n",
      "2                         Rebel Ridge   Streaming Sep 6, 2024          95%   \n",
      "3                             Hit Man   Streaming Jun 7, 2024          95%   \n",
      "4                            Twisters  Streaming Aug 13, 2024          75%   \n",
      "5                           Civil War  Streaming May 24, 2024          81%   \n",
      "6                  Godzilla Minus One   Streaming Jun 1, 2024          99%   \n",
      "7                          Monkey Man  Streaming Apr 23, 2024          89%   \n",
      "8                           John Wick   Streaming Jun 7, 2016          86%   \n",
      "9                        The Fall Guy  Streaming May 21, 2024          81%   \n",
      "10                         The Batman  Streaming Apr 19, 2022          85%   \n",
      "11                          Gladiator  Streaming Jun 15, 2011          79%   \n",
      "12                       Interstellar  Streaming May 24, 2016          73%   \n",
      "13                              Plane   Streaming Feb 2, 2023          79%   \n",
      "14            Furiosa: A Mad Max Saga  Streaming Jun 25, 2024          90%   \n",
      "15                             Thelma  Streaming Jul 19, 2024          98%   \n",
      "16                     Dune: Part Two  Streaming Apr 16, 2024          92%   \n",
      "17                      Bone Tomahawk  Streaming Mar 11, 2017          91%   \n",
      "18              Marvel's the Avengers  Streaming Jun 22, 2014          91%   \n",
      "19                         The Killer  Streaming Nov 10, 2023          85%   \n",
      "20            Spider-Man: No Way Home  Streaming Mar 15, 2022          93%   \n",
      "21                  Avengers: Endgame  Streaming Jul 30, 2019          94%   \n",
      "22  In the Land of Saints and Sinners  Streaming Apr 16, 2024          83%   \n",
      "23  Kingdom of the Planet of the Apes   Streaming Jul 9, 2024          80%   \n",
      "24                 Love Lies Bleeding  Streaming Apr 26, 2024          94%   \n",
      "25                    The Dark Knight  Streaming Jun 14, 2010          94%   \n",
      "26                           Arcadian  Streaming Apr 30, 2024          78%   \n",
      "\n",
      "   Audience Score   Genre  \n",
      "0             98%  Action  \n",
      "1             94%  Action  \n",
      "2             73%  Action  \n",
      "3             92%  Action  \n",
      "4             91%  Action  \n",
      "5             70%  Action  \n",
      "6             98%  Action  \n",
      "7             83%  Action  \n",
      "8             81%  Action  \n",
      "9             85%  Action  \n",
      "10            87%  Action  \n",
      "11            87%  Action  \n",
      "12            86%  Action  \n",
      "13            94%  Action  \n",
      "14            89%  Action  \n",
      "15            83%  Action  \n",
      "16            95%  Action  \n",
      "17            74%  Action  \n",
      "18            91%  Action  \n",
      "19            61%  Action  \n",
      "20            98%  Action  \n",
      "21            90%  Action  \n",
      "22            74%  Action  \n",
      "23            77%  Action  \n",
      "24            82%  Action  \n",
      "25            94%  Action  \n",
      "26            56%  Action  \n",
      "Movies found: 27\n"
     ]
    }
   ],
   "source": [
    "import requests\n",
    "from bs4 import BeautifulSoup\n",
    "import pandas as pd\n",
    "\n",
    "# Copied all genres from website so they are accesible\n",
    "genres_array = [\"Action\", \"Adventure\", \"Animation\", \"Anime\", \"Biography\", \"Comedy\", \"Crime\", \"Documentary\", \"Drama\", \"Entertainment\", \n",
    "                \"Faith & Spirituality\", \"Fantasy\", \"Game Show\", \"LGBTQ+\", \"Health & Wellness\", \"History\", \"Holiday\", \"Horror\", \"House & Garden\", \n",
    "                \"Kids & Family\", \"Music\", \"Musical\", \"Mystery & Thriller\", \"Nature\", \"News\", \"Reality\", \"Romance\", \"Sci-Fi\", \"Short\", \"Soap\", \n",
    "                \"Special Interest\", \"Sports\", \"Stand-Up\", \"Talk Show\", \"Travel\", \"Variety\", \"War\", \"Western\"]\n",
    "\n",
    "genre = genres_array[0] # chooses action movies to look at\n",
    "url = f'https://www.rottentomatoes.com/browse/movies_at_home/critics:certified_fresh~genres:{genre}'\n",
    "response = requests.get(url)\n",
    "\n",
    "\n",
    "soup = BeautifulSoup(response.text)\n",
    "    \n",
    "# Find all movie elements\n",
    "movie_elements = soup.find_all('div', class_='js-tile-link')\n",
    "\n",
    "# Lists to hold movie details\n",
    "movie_names = []\n",
    "release_dates = []\n",
    "critic_scores = []\n",
    "audience_scores = []\n",
    "\n",
    "# Loop through each movie element to extract relevant details\n",
    "for movie in movie_elements:\n",
    "    # Get movie name\n",
    "    name = movie.find('span', {'data-qa': 'discovery-media-list-item-title'}).get_text(strip=True)\n",
    "    movie_names.append(name)\n",
    "\n",
    "    # Get release date\n",
    "    release = movie.find('span', class_='smaller').get_text(strip=True) if movie.find('span', class_='smaller') else 'N/A'\n",
    "    release_dates.append(release)\n",
    "\n",
    "    # Get critic score\n",
    "    critic_score = movie.find('rt-text', {'slot': 'criticsScore'})\n",
    "    critic_scores.append(critic_score.get_text(strip=True) if critic_score else 'N/A')\n",
    "\n",
    "    # Get audience score\n",
    "    audience_score = movie.find('rt-text', {'slot': 'audienceScore'})\n",
    "    audience_scores.append(audience_score.get_text(strip=True) if audience_score else 'N/A')\n",
    "\n",
    "# Creates DataFrame to store the movie details\n",
    "df = pd.DataFrame({\n",
    "    'Movie Name': movie_names,\n",
    "    'Release': release_dates,\n",
    "    'Critic Score': critic_scores,\n",
    "    'Audience Score': audience_scores,\n",
    "    'Genre' : genre\n",
    "})\n",
    "\n",
    "print(df)\n",
    "print(f\"Movies found: {len(df)}\")\n",
    "\n",
    "\n"
   ]
  },
  {
   "cell_type": "markdown",
   "metadata": {},
   "source": [
    " ### Data Usage and Remaining Issues\n",
    "\n",
    " the DataFrame still requires some cleaning and organization. For instance, while the genre is straightforward in this dataset, the scores are presented as strings with percentage signs, which will need conversion to ints for effective analysis. Additionally, I will also convert the release column to a date time object for simplicity and to cut down on. There is also a problem with movies having multiple genres so I may need to clean for repeats If I combine different genres. As I progress, I plan to investigate the relationships between the various attributes, particularly focusing on how the genre and scores correlate with each other. Although I haven’t yet covered machine learning models in my studies, I see potential for using regression to predict scores based on movie features or classification techniques to analyze patterns within the genres. Further exploration into these methods will help deepen my analysis and potentially lead to uncovering bias in film review world.\n",
    " \n"
   ]
  }
 ],
 "metadata": {
  "kernelspec": {
   "display_name": "Python 3",
   "language": "python",
   "name": "python3"
  },
  "language_info": {
   "codemirror_mode": {
    "name": "ipython",
    "version": 3
   },
   "file_extension": ".py",
   "mimetype": "text/x-python",
   "name": "python",
   "nbconvert_exporter": "python",
   "pygments_lexer": "ipython3",
   "version": "3.12.1"
  }
 },
 "nbformat": 4,
 "nbformat_minor": 2
}
